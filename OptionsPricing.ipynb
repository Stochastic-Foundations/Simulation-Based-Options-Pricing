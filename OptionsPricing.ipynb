{
 "cells": [
  {
   "metadata": {},
   "cell_type": "markdown",
   "source": "Import Necessary Packages",
   "id": "b07450b6529c9bfd"
  },
  {
   "metadata": {
    "ExecuteTime": {
     "end_time": "2024-11-18T05:51:21.607186Z",
     "start_time": "2024-11-18T05:51:20.655322Z"
    }
   },
   "cell_type": "code",
   "source": [
    "import numpy as np\n",
    "import matplotlib.pyplot as plt"
   ],
   "id": "b3c9e79e40f87e1d",
   "outputs": [],
   "execution_count": 1
  },
  {
   "metadata": {},
   "cell_type": "markdown",
   "source": "Implementations",
   "id": "9b1a1fec01f73d73"
  },
  {
   "metadata": {
    "ExecuteTime": {
     "end_time": "2024-11-18T06:08:35.950196Z",
     "start_time": "2024-11-18T06:08:35.918322Z"
    }
   },
   "cell_type": "code",
   "source": [
    "def stock_price(s_0 = 100, dt = 0.004, r = 0.05, q = 0.02, vol = 0.4, period = 250):\n",
    "        \n",
    "    prices = np.zeros(period) ## initialize an empty array to store prices that move based on Brownian motion\n",
    "    epsilon = np.random.randn(period) ## an array of standard normal errors\n",
    "    price_new = s_0\n",
    "    \n",
    "    for a in range(period):\n",
    "        price_new = price_new + (r - q) * dt + vol * np.sqrt(dt) * epsilon[a] ## updated price of the stock\n",
    "        prices[a] = price_new    \n",
    "        \n",
    "    return prices ## vector of history of prices\n",
    "\n",
    "def simulation(iterations = 10000, period = 250):\n",
    "    simulations = np.zeros((iterations,period))\n",
    "    for i in range(iterations):\n",
    "        simulations[i] = stock_price()\n",
    "    return simulations\n",
    "        \n",
    "def option_price(option_payoff, rate = 0.05, T = 0.75): \n",
    "    \n",
    "    return int(np.sum(option_payoff)/10000*np.exp(-T*rate)*10000)/10000\n",
    "    \n",
    "def plotting(payoffs,name):\n",
    "    plt.hist(payoffs, bins = 30)\n",
    "    plt.xlabel(\"Payoffs\")\n",
    "    plt.title(\"Payoff Histogram of \" + name + \" With Average Payoff\")\n",
    "    avg = np.mean(payoffs)\n",
    "    plt.scatter(avg,0, color = \"blue\", s = 40, marker = 'o') ## Note average payoff at maturity\n",
    "    plt.show()"
   ],
   "id": "1aa98eca38c10068",
   "outputs": [],
   "execution_count": 19
  },
  {
   "metadata": {},
   "cell_type": "markdown",
   "source": [
    "## European Call Option\n",
    "\n",
    "Compute the price of a European call option with a strike price of 110 that pays at maturity:\n",
    "\n",
    "$$ P = max(S_T - 110, 0) $$\n"
   ],
   "id": "d39c6879620c0fe8"
  },
  {
   "metadata": {
    "ExecuteTime": {
     "end_time": "2024-11-18T06:08:36.123257Z",
     "start_time": "2024-11-18T06:08:36.120330Z"
    }
   },
   "cell_type": "code",
   "source": "",
   "id": "cb5687a5e0036871",
   "outputs": [],
   "execution_count": 19
  },
  {
   "metadata": {},
   "cell_type": "markdown",
   "source": [
    "## European Put Option\n",
    "\n",
    "Compute the price of a European put option with a strike price of 90 that pays at maturity:\n",
    "\n",
    "$$ P = max(90 - S_T, 0) $$"
   ],
   "id": "1a87b62ff18dd6f3"
  },
  {
   "metadata": {
    "ExecuteTime": {
     "end_time": "2024-11-18T06:08:36.345387Z",
     "start_time": "2024-11-18T06:08:36.343371Z"
    }
   },
   "cell_type": "code",
   "source": "",
   "id": "b61f25f5ae955a24",
   "outputs": [],
   "execution_count": 19
  },
  {
   "metadata": {},
   "cell_type": "markdown",
   "source": [
    "## Floating Lookback Call Option\n",
    "\n",
    "Compute the price of the floating lookback call option that pays at maturity:\n",
    "\n",
    "$$ P = S_T - S_{min} $$\n",
    "\n",
    "$S_{min}$: Minimum price of the stock in each path\n",
    "\n"
   ],
   "id": "45bbb7b74eb2c2b9"
  },
  {
   "metadata": {
    "ExecuteTime": {
     "end_time": "2024-11-18T06:08:40.253893Z",
     "start_time": "2024-11-18T06:08:36.593236Z"
    }
   },
   "cell_type": "code",
   "source": [
    "def lookBackCallPrice(sim = simulation()):\n",
    "    \n",
    "    payoffs = np.zeros(len(sim)) ## initialize empty array for payoffs\n",
    "    i = 0\n",
    "    for vector in sim:\n",
    "        K = np.min(vector) ## \"strike\" of this option is the minimum\n",
    "        S_T = vector[-1] ## price at maturity\n",
    "        payoffs[i] = (S_T - K) ## append the payoffs of each simulation\n",
    "        i += 1\n",
    "    plotting(payoffs, \"Lookback Call Option\")    \n",
    "    print(\"Price of Lookback Call Option: $\" + str(option_price(payoffs))) ## calculate the price from the payoffs of all sims\n",
    "lookBackCallPrice()"
   ],
   "id": "59b0c7a1179323f1",
   "outputs": [
    {
     "data": {
      "text/plain": [
       "<Figure size 640x480 with 1 Axes>"
      ],
      "image/png": "[encoded data removed]"
     },
     "metadata": {},
     "output_type": "display_data"
    },
    {
     "name": "stdout",
     "output_type": "stream",
     "text": [
      "Price of Lookback Call Option: $0.308\n"
     ]
    }
   ],
   "execution_count": 20
  },
  {
   "metadata": {},
   "cell_type": "markdown",
   "source": [
    "## Floating Lookback Put Option\n",
    "\n",
    "Compute the price of the floating lookback put option that pays at maturity:\n",
    "\n",
    "$$ P = S_{max} - S_T $$\n",
    "\n",
    "$S_{max}$: Maximum price of the stock in each path"
   ],
   "id": "d6c59c46296ecf2a"
  },
  {
   "metadata": {
    "ExecuteTime": {
     "end_time": "2024-11-18T06:08:44.435154Z",
     "start_time": "2024-11-18T06:08:40.256213Z"
    }
   },
   "cell_type": "code",
   "source": [
    "def lookBackPutPrice(sim = simulation()):\n",
    "    \n",
    "    payoffs = np.zeros(len(sim)) ## initialize empty array for payoffs\n",
    "    i = 0\n",
    "    for vector in sim:\n",
    "        K = np.max(vector) ## \"strike\" of this option is the maximum\n",
    "        S_T = vector[-1] ## price at maturity\n",
    "        payoffs[i] = (K - S_T) ## append the payoffs of each simulation\n",
    "        i += 1\n",
    "    plotting(payoffs, \"Lookback Put Option\")   \n",
    "    print(\"Price of Lookback Put Option: $\" + str(option_price(payoffs))) ## calculate the price from the payoffs of all sims\n",
    "    \n",
    "lookBackPutPrice()"
   ],
   "id": "abb6bb408c9f3bc2",
   "outputs": [
    {
     "data": {
      "text/plain": [
       "<Figure size 640x480 with 1 Axes>"
      ],
      "image/png": "[encoded data removed]"
     },
     "metadata": {},
     "output_type": "display_data"
    },
    {
     "name": "stdout",
     "output_type": "stream",
     "text": [
      "Price of Lookback Put Option: $0.2771\n"
     ]
    }
   ],
   "execution_count": 21
  },
  {
   "metadata": {},
   "cell_type": "markdown",
   "source": [
    "## Average Strike Asian Call Option\n",
    "\n",
    "Compute the price of an average strike call option that pays at maturity:\n",
    "\n",
    "$$ P = max(S_T - \\bar{S}) $$\n",
    "\n",
    "$\\bar{S}$: Average price of the stock in each path"
   ],
   "id": "112dd95e291c0402"
  },
  {
   "metadata": {},
   "cell_type": "code",
   "source": "",
   "id": "b1c1120c9877fdde",
   "outputs": [],
   "execution_count": null
  },
  {
   "metadata": {},
   "cell_type": "markdown",
   "source": [
    "## Average Strike Asian Put Option\n",
    "\n",
    "Compute the price of an average strike call option that pays at maturity:\n",
    "\n",
    "$$ P = max(\\bar{S} - S_T) $$\n",
    "\n",
    "$\\bar{S}$: Average price of the stock in each path"
   ],
   "id": "aca2c5f80fd9ca59"
  },
  {
   "metadata": {},
   "cell_type": "code",
   "source": "",
   "id": "fa91915d559f6458",
   "outputs": [],
   "execution_count": null
  }
 ],
 "metadata": {
  "kernelspec": {
   "display_name": "Python 3",
   "language": "python",
   "name": "python3"
  },
  "language_info": {
   "codemirror_mode": {
    "name": "ipython",
    "version": 2
   },
   "file_extension": ".py",
   "mimetype": "text/x-python",
   "name": "python",
   "nbconvert_exporter": "python",
   "pygments_lexer": "ipython2",
   "version": "2.7.6"
  }
 },
 "nbformat": 4,
 "nbformat_minor": 5
}
