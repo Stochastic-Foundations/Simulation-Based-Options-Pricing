{
 "cells": [
  {
   "metadata": {},
   "cell_type": "markdown",
   "source": [
    "## European Call Option\n",
    "\n",
    "Compute the price of a European call option with a strike price of $110 that pays at maturity:\n",
    "\n",
    "\\[\n",
    "\\max(S_T - 110, 0)\n",
    "\\]\n"
   ],
   "id": "d39c6879620c0fe8"
  },
  {
   "metadata": {},
   "cell_type": "markdown",
   "source": [
    "## European Call Option\n",
    "\n",
    "Compute the price of a European call option with a strike price of \\$110 that pays at maturity:\n",
    "\n",
    "\\(\n",
    "\\text{Payoff} = \\max(S_T - 110, 0)\n",
    "\\)\n"
   ],
   "id": "27cfe1d08d8d2b1c"
  },
  {
   "metadata": {},
   "cell_type": "code",
   "outputs": [],
   "execution_count": null,
   "source": "",
   "id": "b61f25f5ae955a24"
  },
  {
   "metadata": {},
   "cell_type": "markdown",
   "source": [
    "## Floating Lookback Put Option\n",
    "\n",
    "Compute the price of the floating lookback call option that pays at maturity:\n",
    "\n",
    "$$ P = S_T - S_{min} $$\n",
    "\n",
    "\\(S_max\\) is the maximum price of the stock in each path\n",
    "\n"
   ],
   "id": "45bbb7b74eb2c2b9"
  },
  {
   "metadata": {},
   "cell_type": "code",
   "outputs": [],
   "execution_count": null,
   "source": "",
   "id": "59b0c7a1179323f1"
  }
 ],
 "metadata": {
  "kernelspec": {
   "display_name": "Python 3",
   "language": "python",
   "name": "python3"
  },
  "language_info": {
   "codemirror_mode": {
    "name": "ipython",
    "version": 2
   },
   "file_extension": ".py",
   "mimetype": "text/x-python",
   "name": "python",
   "nbconvert_exporter": "python",
   "pygments_lexer": "ipython2",
   "version": "2.7.6"
  }
 },
 "nbformat": 4,
 "nbformat_minor": 5
}
