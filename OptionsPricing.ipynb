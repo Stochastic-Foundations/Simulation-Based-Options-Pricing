{
 "cells": [
  {
   "metadata": {},
   "cell_type": "markdown",
   "source": [
    "## European Call Option\n",
    "\n",
    "Compute the price of a European call option with a strike price of 110 that pays at maturity:\n",
    "\n",
    "$$ P = max(S_T - 110, 0) $$\n"
   ],
   "id": "d39c6879620c0fe8"
  },
  {
   "metadata": {},
   "cell_type": "code",
   "outputs": [],
   "execution_count": null,
   "source": "",
   "id": "cb5687a5e0036871"
  },
  {
   "metadata": {},
   "cell_type": "markdown",
   "source": [
    "## European Put Option\n",
    "\n",
    "Compute the price of a European put option with a strike price of 90 that pays at maturity:\n",
    "\n",
    "$$ P = max(90 - S_T, 0) $$"
   ],
   "id": "1a87b62ff18dd6f3"
  },
  {
   "metadata": {},
   "cell_type": "code",
   "outputs": [],
   "execution_count": null,
   "source": "",
   "id": "b61f25f5ae955a24"
  },
  {
   "metadata": {},
   "cell_type": "markdown",
   "source": [
    "## Floating Lookback Call Option\n",
    "\n",
    "Compute the price of the floating lookback call option that pays at maturity:\n",
    "\n",
    "$$ P = S_T - S_{min} $$\n",
    "\n",
    "$S_{min}$: Minimum price of the stock in each path\n",
    "\n"
   ],
   "id": "45bbb7b74eb2c2b9"
  },
  {
   "metadata": {
    "jupyter": {
     "is_executing": true
    }
   },
   "cell_type": "code",
   "source": "",
   "id": "59b0c7a1179323f1",
   "outputs": [],
   "execution_count": null
  },
  {
   "metadata": {},
   "cell_type": "markdown",
   "source": [
    "## Floating Lookback Put Option\n",
    "\n",
    "Compute the price of the floating lookback put option that pays at maturity:\n",
    "\n",
    "$$ P = S_{max} - S_T $$\n",
    "\n",
    "$S_{max}$: Maximum price of the stock in each path"
   ],
   "id": "d6c59c46296ecf2a"
  },
  {
   "metadata": {},
   "cell_type": "markdown",
   "source": [
    "## Average Strike Asian Call Option\n",
    "\n",
    "Compute the price of an average strike call option that pays at maturity:\n",
    "\n",
    "$$ P = max(S_T - \\bar{S}) $$\n",
    "\n",
    "$\\bar{S}$: Average price of the stock in each path"
   ],
   "id": "112dd95e291c0402"
  },
  {
   "metadata": {},
   "cell_type": "code",
   "outputs": [],
   "execution_count": null,
   "source": "",
   "id": "b1c1120c9877fdde"
  },
  {
   "metadata": {},
   "cell_type": "markdown",
   "source": [
    "## Average Strike Asian Put Option\n",
    "\n",
    "Compute the price of an average strike call option that pays at maturity:\n",
    "\n",
    "$$ P = max(\\bar{S} - S_T) $$\n",
    "\n",
    "$\\bar{S}$: Average price of the stock in each path"
   ],
   "id": "aca2c5f80fd9ca59"
  },
  {
   "metadata": {},
   "cell_type": "code",
   "outputs": [],
   "execution_count": null,
   "source": "",
   "id": "fa91915d559f6458"
  }
 ],
 "metadata": {
  "kernelspec": {
   "display_name": "Python 3",
   "language": "python",
   "name": "python3"
  },
  "language_info": {
   "codemirror_mode": {
    "name": "ipython",
    "version": 2
   },
   "file_extension": ".py",
   "mimetype": "text/x-python",
   "name": "python",
   "nbconvert_exporter": "python",
   "pygments_lexer": "ipython2",
   "version": "2.7.6"
  }
 },
 "nbformat": 4,
 "nbformat_minor": 5
}
