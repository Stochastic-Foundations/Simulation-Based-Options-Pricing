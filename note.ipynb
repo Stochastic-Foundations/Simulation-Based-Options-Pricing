{
 "cells": [
  {
   "metadata": {},
   "cell_type": "markdown",
   "source": "Plain Vanilla Options",
   "id": "781308fd444f04f9"
  },
  {
   "cell_type": "code",
   "id": "initial_id",
   "metadata": {
    "collapsed": true,
    "ExecuteTime": {
     "end_time": "2024-11-17T20:41:23.464280Z",
     "start_time": "2024-11-17T20:41:23.393526Z"
    }
   },
   "source": "## Xiyao Chen\n",
   "outputs": [],
   "execution_count": 2
  },
  {
   "metadata": {
    "ExecuteTime": {
     "end_time": "2024-11-17T20:41:23.480066Z",
     "start_time": "2024-11-17T20:41:23.475600Z"
    }
   },
   "cell_type": "code",
   "source": "",
   "id": "9a525977ed53286a",
   "outputs": [],
   "execution_count": 2
  },
  {
   "metadata": {},
   "cell_type": "code",
   "outputs": [],
   "execution_count": null,
   "source": "",
   "id": "2dde2924776c3f8"
  },
  {
   "metadata": {},
   "cell_type": "markdown",
   "source": "## Lookback Options",
   "id": "e162467c6970a533"
  },
  {
   "metadata": {
    "ExecuteTime": {
     "end_time": "2024-11-17T20:47:24.438256Z",
     "start_time": "2024-11-17T20:47:24.412154Z"
    }
   },
   "cell_type": "code",
   "source": "## Chris Jeong",
   "id": "ddd65f430f65de0a",
   "outputs": [],
   "execution_count": 5
  },
  {
   "metadata": {},
   "cell_type": "markdown",
   "source": [
    "Floating Lookback Call Option\n",
    "\n",
    "The price of the **floating lookback call option** is given by:\n",
    "\n",
    "$$ \n",
    "P = S_T - S_{\\min} \n",
    "$$\n",
    "\n",
    "Where:\n",
    "\n",
    "- \\( S_T \\) is the stock price at **maturity**.\n",
    "- \\( S_{\\min} \\) is the **minimum price** of the stock over the life of the option."
   ],
   "id": "8051820b1d4eb5b6"
  },
  {
   "metadata": {},
   "cell_type": "code",
   "source": "",
   "id": "2610874f5e5c6e97",
   "outputs": [],
   "execution_count": null
  },
  {
   "metadata": {},
   "cell_type": "markdown",
   "source": "Asian Options",
   "id": "b814cdccf6df1330"
  },
  {
   "metadata": {},
   "cell_type": "code",
   "outputs": [],
   "execution_count": null,
   "source": "## Francesco Cori\n",
   "id": "24cb1e402c59bd2"
  }
 ],
 "metadata": {
  "kernelspec": {
   "display_name": "Python 3",
   "language": "python",
   "name": "python3"
  },
  "language_info": {
   "codemirror_mode": {
    "name": "ipython",
    "version": 2
   },
   "file_extension": ".py",
   "mimetype": "text/x-python",
   "name": "python",
   "nbconvert_exporter": "python",
   "pygments_lexer": "ipython2",
   "version": "2.7.6"
  }
 },
 "nbformat": 4,
 "nbformat_minor": 5
}
